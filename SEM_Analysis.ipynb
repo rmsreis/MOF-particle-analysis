{
 "cells": [
  {
   "cell_type": "code",
   "execution_count": null,
   "id": "56b6e2ff",
   "metadata": {},
   "outputs": [],
   "source": [
    "# !pip install opencv-python"
   ]
  },
  {
   "cell_type": "code",
   "execution_count": 2,
   "id": "0fd6c1ef",
   "metadata": {},
   "outputs": [],
   "source": [
    "import cv2\n",
    "import numpy as np\n",
    "import glob\n",
    "from matplotlib import pyplot as plt\n",
    "from scipy import ndimage\n",
    "from skimage import measure, color, io"
   ]
  },
  {
   "cell_type": "code",
   "execution_count": 4,
   "id": "871cf546",
   "metadata": {},
   "outputs": [],
   "source": [
    "#STEP1 - Read image and define pixel size\n",
    "# img = cv2.imread(\"data/larger crystals.tif\", 0)\n",
    "\n",
    "y=0\n",
    "x=0\n",
    "h=900\n",
    "w=1280\n",
    "\n",
    "# crop = image[y:y+h, x:x+w]\n",
    "\n",
    "\n",
    "def read_img(img_list, img):\n",
    "    n = cv2.imread(img, 0)\n",
    "    img_list.append(n)\n",
    "    return img_list\n",
    "\n",
    "path = glob.glob(\"data/*.bmp\") #or jpg\n",
    "list_ = []\n",
    "\n",
    "cv_image = [read_img(list_, img) for img in path][0]\n",
    "img = np.asarray(cv_image)\n",
    "\n",
    "\n",
    "pixels_to_um = 0.5 # (1 px = 500 nm)\n",
    "\n",
    "# img = img[0:900, :]   #Crop the scalebar region\n",
    "# io.imshow(img)"
   ]
  },
  {
   "cell_type": "code",
   "execution_count": 5,
   "id": "02a79343",
   "metadata": {},
   "outputs": [
    {
     "data": {
      "text/plain": [
       "(110, 1024, 1280)"
      ]
     },
     "execution_count": 5,
     "metadata": {},
     "output_type": "execute_result"
    }
   ],
   "source": [
    "img.shape"
   ]
  },
  {
   "cell_type": "code",
   "execution_count": null,
   "id": "fa631bc3",
   "metadata": {},
   "outputs": [],
   "source": [
    "io.imshow(img[20,y:y+h, x:x+w])"
   ]
  },
  {
   "cell_type": "code",
   "execution_count": 11,
   "id": "6c317730",
   "metadata": {},
   "outputs": [],
   "source": [
    "test01 = img[20,y:y+h, x:x+w]"
   ]
  },
  {
   "cell_type": "code",
   "execution_count": 12,
   "id": "765f2693",
   "metadata": {},
   "outputs": [],
   "source": [
    "#Step 2: Denoising, if required and threshold image\n",
    "\n",
    "#No need for any denoising or smoothing as the image looks good.\n",
    "#Otherwise, try Median or NLM\n",
    "#plt.hist(img.flat, bins=100, range=(0,255))\n",
    "\n",
    "#Change the grey image to binary by thresholding. \n",
    "ret, thresh = cv2.threshold(test01, 0, 255, cv2.THRESH_BINARY+cv2.THRESH_OTSU)\n",
    "#print(ret)  #Gives 157 on grains2.jpg. OTSU determined this to be the best threshold. \n",
    "\n",
    "#View the thresh image. Some boundaries are ambiguous / faint.\n",
    "#Some pixles in the middle. \n",
    "#Need to perform morphological operations to enhance."
   ]
  },
  {
   "cell_type": "code",
   "execution_count": 13,
   "id": "6a183354",
   "metadata": {},
   "outputs": [
    {
     "data": {
      "text/plain": [
       "<matplotlib.image.AxesImage at 0x1db0b625070>"
      ]
     },
     "execution_count": 13,
     "metadata": {},
     "output_type": "execute_result"
    },
    {
     "data": {
      "image/png": "[encoded data removed]",
      "text/plain": [
       "<Figure size 432x288 with 1 Axes>"
      ]
     },
     "metadata": {
      "needs_background": "light"
     },
     "output_type": "display_data"
    }
   ],
   "source": [
    "#Step 3: Clean up image, if needed (erode, etc.) and create a mask for grains\n",
    "\n",
    "kernel = np.ones((3,3),np.uint8) \n",
    "eroded = cv2.erode(thresh,kernel,iterations = 1)\n",
    "dilated = cv2.dilate(eroded,kernel,iterations = 1)\n",
    "\n",
    "# Now, we need to apply threshold, meaning convert uint8 image to boolean.\n",
    "mask = dilated == 255  #Sets TRUE for all 255 valued pixels and FALSE for 0\n",
    "#print(mask)   #Just to confirm the image is not inverted. \n",
    "\n",
    "#from skimage.segmentation import clear_border\n",
    "#mask = clear_border(mask)   #Removes edge touching grains. \n",
    "\n",
    "io.imshow(mask)  #cv2.imshow() not working on boolean arrays so using io\n",
    "#io.imshow(mask[250:280, 250:280])   #Zoom in to see pixelated binary image\n"
   ]
  },
  {
   "cell_type": "code",
   "execution_count": null,
   "id": "8504adf2",
   "metadata": {},
   "outputs": [],
   "source": [
    "#Step 4: Label grains in the masked image\n",
    "\n",
    "#Now we have well separated grains and background. Each grain is like an object.\n",
    "#The scipy ndimage package has a function 'label' that will number each object with a unique ID.\n",
    "\n",
    "#The 'structure' parameter defines the connectivity for the labeling. \n",
    "#This specifies when to consider a pixel to be connected to another nearby pixel, \n",
    "#i.e. to be part of the same object.\n",
    "\n",
    "#use 8-connectivity, diagonal pixels will be included as part of a structure\n",
    "#this is ImageJ default but we have to specify this for Python, or 4-connectivity will be used\n",
    "# 4 connectivity would be [[0,1,0],[1,1,1],[0,1,0]]\n",
    "s = [[1,1,1],[1,1,1],[1,1,1]]\n",
    "#label_im, nb_labels = ndimage.label(mask)\n",
    "labeled_mask, num_labels = ndimage.label(mask, structure=s)\n",
    "\n",
    "#The function outputs a new image that contains a different integer label \n",
    "#for each object, and also the number of objects found.\n",
    "\n",
    "\n",
    "#Let's color the labels to see the effect\n",
    "img2 = color.label2rgb(labeled_mask, bg_label=0)\n",
    "\n",
    "cv2.imshow('Colored Grains', img2)\n",
    "cv2.waitKey(0)\n",
    "\n",
    "#View just by making mask=threshold and also mask = dilation (after morph operations)\n",
    "#Some grains are well separated after morph operations\n",
    "\n",
    "#Now each object had a unique number in the image. \n",
    "#Total number of labels found are...\n",
    "print(num_labels) \n",
    "\n"
   ]
  },
  {
   "cell_type": "code",
   "execution_count": null,
   "id": "f00b4a86",
   "metadata": {},
   "outputs": [],
   "source": [
    "#Step 5: Measure the properties of each grain (object)\n",
    "\n",
    "# regionprops function in skimage measure module calculates useful parameters for each object.\n",
    "\n",
    "clusters = measure.regionprops(labeled_mask, img)  #send in original image for Intensity measurements\n",
    "\n",
    "#The output of the function is a list of object properties. \n",
    "\n",
    "#Test a few measurements\n",
    "#print(clusters[0].perimeter)\n",
    "\n",
    "#Can print various parameters for all objects\n",
    "#for prop in clusters:\n",
    "#    print('Label: {} Area: {}'.format(prop.label, prop.area))\n",
    "    \n",
    "#Step 6: Output results into a csv file   \n",
    "#Best way is to output all properties to a csv file\n",
    "    \n",
    "propList = ['Area',\n",
    "            'equivalent_diameter', #Added... verify if it works\n",
    "            'orientation', #Added, verify if it works. Angle btwn x-axis and major axis.\n",
    "            'MajorAxisLength',\n",
    "            'MinorAxisLength',\n",
    "            'Perimeter',\n",
    "            'MinIntensity',\n",
    "            'MeanIntensity',\n",
    "            'MaxIntensity']    \n",
    "    \n",
    "\n",
    "output_file = open('image_measurements.csv', 'w')\n",
    "output_file.write(',' + \",\".join(propList) + '\\n') #join strings in array by commas, leave first cell blank\n",
    "#First cell blank to leave room for header (column names)\n",
    "\n",
    "for cluster_props in clusters:\n",
    "    #output cluster properties to the excel file\n",
    "    output_file.write(str(cluster_props['Label']))\n",
    "    for i,prop in enumerate(propList):\n",
    "        if(prop == 'Area'): \n",
    "            to_print = cluster_props[prop]*pixels_to_um**2   #Convert pixel square to um square\n",
    "        elif(prop == 'orientation'): \n",
    "            to_print = cluster_props[prop]*57.2958  #Convert to degrees from radians\n",
    "        elif(prop.find('Intensity') < 0):          # Any prop without Intensity in its name\n",
    "            to_print = cluster_props[prop]*pixels_to_um\n",
    "        else: \n",
    "            to_print = cluster_props[prop]     #Reamining props, basically the ones with Intensity in its name\n",
    "        output_file.write(',' + str(to_print))\n",
    "    output_file.write('\\n')\n",
    "output_file.close()   #Closes the file, otherwise it would be read only. "
   ]
  },
  {
   "cell_type": "code",
   "execution_count": null,
   "id": "8eabfbe0",
   "metadata": {},
   "outputs": [],
   "source": [
    "import matplotlib.pyplot as plt\n",
    "import pandas as pd\n",
    "\n",
    "data = pd.read_csv('image_measurements.csv', sep=',',header=None)\n",
    "data.values\n",
    "print data\n",
    "\n",
    "\n",
    "plt.bar(data[:,0], data[:,1], color='g')\n",
    "plt.ylabel('Frequency')\n",
    "plt.xlabel('Words')\n",
    "plt.title('Title')\n",
    "\n",
    "plt.show()"
   ]
  },
  {
   "cell_type": "code",
   "execution_count": null,
   "id": "f067d2a1",
   "metadata": {},
   "outputs": [],
   "source": []
  }
 ],
 "metadata": {
  "kernelspec": {
   "display_name": "Python 3 (ipykernel)",
   "language": "python",
   "name": "python3"
  },
  "language_info": {
   "codemirror_mode": {
    "name": "ipython",
    "version": 3
   },
   "file_extension": ".py",
   "mimetype": "text/x-python",
   "name": "python",
   "nbconvert_exporter": "python",
   "pygments_lexer": "ipython3",
   "version": "3.8.10"
  }
 },
 "nbformat": 4,
 "nbformat_minor": 5
}
